{
 "cells": [
  {
   "cell_type": "code",
   "execution_count": 1,
   "id": "ea7b6486",
   "metadata": {},
   "outputs": [],
   "source": [
    "import gym"
   ]
  },
  {
   "cell_type": "code",
   "execution_count": 2,
   "id": "65be9e9d",
   "metadata": {},
   "outputs": [],
   "source": [
    "env = gym.make('SpaceInvaders-v0')"
   ]
  },
  {
   "cell_type": "code",
   "execution_count": 3,
   "id": "fa94d08c",
   "metadata": {},
   "outputs": [],
   "source": [
    "# episodes = 10\n",
    "\n",
    "# for episode in range(1, episodes):\n",
    "#     state = env.reset()\n",
    "#     done = False\n",
    "#     score = 0\n",
    "    \n",
    "#     while not done:\n",
    "#         env.render()\n",
    "#         state, reward, done, info = env.step(env.action_space.sample())\n",
    "#         score += reward\n",
    "#     print('Episode: {}\\nScore: {}'.format(episode,score))\n",
    "\n",
    "# env.close()"
   ]
  },
  {
   "cell_type": "code",
   "execution_count": 3,
   "id": "fc3b7000",
   "metadata": {},
   "outputs": [],
   "source": [
    "#Import Neural Network Packages\n",
    "import numpy as np\n",
    "import tensorflow\n",
    "from tensorflow.keras.models import Sequential\n",
    "from tensorflow.keras.layers import Dense, Flatten, Conv2D\n",
    "\n",
    "from tensorflow.keras.optimizers import Adam"
   ]
  },
  {
   "cell_type": "code",
   "execution_count": 4,
   "id": "623dfa8a",
   "metadata": {},
   "outputs": [],
   "source": [
    "#Implementing a CNN with input of the screen pixels and output of actions by the agent\n",
    "def build_model(height, width, channels, actions):\n",
    "    model = Sequential()\n",
    "    model.add(Conv2D(32, (8,8), strides = (4,4), activation = 'relu', input_shape = (3, height, width, channels)))\n",
    "    model.add(Conv2D(64, (4,4), strides = (2,2), activation = 'relu'))\n",
    "    model.add(Flatten())\n",
    "    model.add(Dense(512, activation = 'relu'))\n",
    "    model.add(Dense(256, activation = 'relu'))\n",
    "    model.add(Dense(actions, activation = 'linear'))\n",
    "    return model\n",
    "    "
   ]
  },
  {
   "cell_type": "code",
   "execution_count": 5,
   "id": "e7de96bf",
   "metadata": {},
   "outputs": [],
   "source": [
    "height, width, channels = env.observation_space.shape\n",
    "actions = env.action_space.n"
   ]
  },
  {
   "cell_type": "code",
   "execution_count": 21,
   "id": "911aed26",
   "metadata": {},
   "outputs": [],
   "source": [
    "del model"
   ]
  },
  {
   "cell_type": "code",
   "execution_count": 22,
   "id": "d3ae9d5b",
   "metadata": {},
   "outputs": [],
   "source": [
    "model = build_model(height, width, channels, actions)"
   ]
  },
  {
   "cell_type": "code",
   "execution_count": 23,
   "id": "ddafebdb",
   "metadata": {},
   "outputs": [],
   "source": [
    "#Importing keras-rl2 reinforcement learning functions\n",
    "from rl.agents import DQNAgent\n",
    "from rl.memory import SequentialMemory\n",
    "from rl.policy import LinearAnnealedPolicy, EpsGreedyQPolicy"
   ]
  },
  {
   "cell_type": "code",
   "execution_count": null,
   "id": "9c12c44e",
   "metadata": {},
   "outputs": [],
   "source": [
    "# %config Completer.use_jedi = False"
   ]
  },
  {
   "cell_type": "code",
   "execution_count": 24,
   "id": "9cbf5d47",
   "metadata": {},
   "outputs": [],
   "source": [
    "def build_agent(model, actions):\n",
    "        policy = LinearAnnealedPolicy(EpsGreedyQPolicy(), attr = 'eps', value_max=1., value_min=.1, value_test= .2, nb_steps= 10000)\n",
    "        memory = SequentialMemory(limit=2000, window_length = 3)\n",
    "        dqn = DQNAgent(model = model, memory = memory, policy=policy,\n",
    "                      enable_dueling_network=True, dueling_type = 'avg',\n",
    "                      nb_actions = actions, nb_steps_warmup =1000)\n",
    "        return dqn"
   ]
  },
  {
   "cell_type": "code",
   "execution_count": 25,
   "id": "b785b441",
   "metadata": {},
   "outputs": [],
   "source": [
    "dqn = build_agent(model, actions)"
   ]
  },
  {
   "cell_type": "code",
   "execution_count": 26,
   "id": "9060c59b",
   "metadata": {},
   "outputs": [],
   "source": [
    "dqn.compile(Adam(lr = 0.0001))"
   ]
  },
  {
   "cell_type": "code",
   "execution_count": null,
   "id": "47513a53",
   "metadata": {},
   "outputs": [],
   "source": [
    "#Run this block only if you want to retrain from scratch\n",
    "dqn.fit(env, nb_steps = 40000, visualize = False, verbose = 1)"
   ]
  },
  {
   "cell_type": "code",
   "execution_count": null,
   "id": "2c5f774f",
   "metadata": {},
   "outputs": [],
   "source": [
    "#Run this block if you want to save weights after training\n",
    "dqn.save_weights('models/dqn.h5f')"
   ]
  },
  {
   "cell_type": "code",
   "execution_count": 27,
   "id": "b4fa212b",
   "metadata": {},
   "outputs": [],
   "source": [
    "#Run this block if you want to load a pre-trained model\n",
    "dqn.load_weights('models/dqn.h5f')"
   ]
  },
  {
   "cell_type": "code",
   "execution_count": null,
   "id": "fc386a63",
   "metadata": {},
   "outputs": [],
   "source": [
    "scores = dqn.test(env, nb_episodes = 10, visualize = True)\n",
    "print(np.mean(scores.history['episode_reward']))"
   ]
  },
  {
   "cell_type": "code",
   "execution_count": null,
   "id": "2e6c27e1",
   "metadata": {},
   "outputs": [],
   "source": []
  }
 ],
 "metadata": {
  "kernelspec": {
   "display_name": "Python 3",
   "language": "python",
   "name": "python3"
  },
  "language_info": {
   "codemirror_mode": {
    "name": "ipython",
    "version": 3
   },
   "file_extension": ".py",
   "mimetype": "text/x-python",
   "name": "python",
   "nbconvert_exporter": "python",
   "pygments_lexer": "ipython3",
   "version": "3.6.13"
  }
 },
 "nbformat": 4,
 "nbformat_minor": 5
}
